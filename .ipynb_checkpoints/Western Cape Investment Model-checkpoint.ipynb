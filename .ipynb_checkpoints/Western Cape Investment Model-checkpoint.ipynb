{
 "cells": [
  {
   "cell_type": "markdown",
   "metadata": {},
   "source": [
    "\n",
    "# MLG382 GROUP PROJECT  [100 Marks] \n",
    "**Lecturer: _K. Igwe_**\n",
    "\n",
    "\n",
    "# Your task is to predict *median house values* in Western cape, given a number of features from the districts \n",
    "\n",
    "\n",
    "The first question to ask before building a model is what exactly the business objective is. How does the client expect to use and benefit from the model? The objective is important in determining how you will frame the problem, the algorithms to select, the performance measure to use for your model evaluation, and the level of effort you will spend tweaking your model.\n",
    "\n",
    "In this project, you should assume that your model’s output (a prediction of a district’s median housing price) will be fed to\n",
    "another Machine Learning system along with many other determinats to better understand the risk of investing in a given area of the Western Cape. The data (home.csv) are provided alonside this notebook. \n",
    "\n",
    "This checklist can guide you through the projects.\n",
    "1. Frame the problem and look at the big picture (done for you).\n",
    "2. Get the data (made available for you).\n",
    "3. Explore the data to gain insights.\n",
    "4. Prepare the data to better expose the underlying data patterns to Machine Learning algorithms.\n",
    "5. Explore many different models and shortlist the best ones.\n",
    "6. Fine-tune your models and combine them into a great solution.\n",
    "7. Present your solution.\n",
    "\n",
    "### Aim\n",
    "- Lecturers aim: To expose you to practical applications of ML. \n",
    "- Your aim:  to predict median house values in Western cape, given a number of features from the province. \n",
    "\n",
    "### Skills Tested\n",
    "- Basic Python Programming\n",
    "- EDA\n",
    "- Use of sklearn Library\n",
    "- choosing the right model and Building a classification Model\n",
    "- Understanding and using different evaluation techniques\n",
    "- Reporting \n",
    "\n",
    "### Instructions and Directions\n",
    "1. _**your code here**_  or  _**your answer here**_ need to be deleted and replaced with your code or answer\n",
    "2. You may use more than one cell to answer a question\n",
    "3. Ensure that you include appropriate comment\n",
    "4. If your code requires special instruction or dependencies to run, please provide these in your submission \n",
    "\n",
    "### NOTE: 80% is for meeting requirement, 20% will be awarded based on extra work. I have provided some guide where I enticipate that you may need extra help."
   ]
  },
  {
   "cell_type": "code",
   "execution_count": 1,
   "metadata": {},
   "outputs": [],
   "source": [
    "# GROUP MEMBERS NAMES HERE (as markdown)"
   ]
  },
  {
   "cell_type": "markdown",
   "metadata": {},
   "source": [
    "## RUBRIC\n",
    "\n",
    "1. Frame the problem and look at the big picture (done for you) [2].\n",
    "2. Get the data (made available for you) [2].\n",
    "3. Explore the data to gain insights [10]\n",
    "4. Prepare the data to better expose the underlying data patterns to Machine Learning algorithms [20]\n",
    "5. Explore many different models (at least 3) and shortlist the best ones [30].\n",
    "6. Fine-tune your models. [10]\n",
    "7. Present your solution [20]."
   ]
  },
  {
   "cell_type": "markdown",
   "metadata": {},
   "source": [
    "##  Frame the problem and look at the big picture (done for you)."
   ]
  },
  {
   "cell_type": "code",
   "execution_count": 2,
   "metadata": {},
   "outputs": [],
   "source": [
    "# Nothing Required here. Good Luck!"
   ]
  },
  {
   "cell_type": "markdown",
   "metadata": {},
   "source": [
    "## Get the data (made available for you) [0]."
   ]
  },
  {
   "cell_type": "code",
   "execution_count": 3,
   "metadata": {},
   "outputs": [],
   "source": [
    "# _your code here_"
   ]
  },
  {
   "cell_type": "markdown",
   "metadata": {},
   "source": [
    "## Explore the data to gain insights [10] BONUS [5]"
   ]
  },
  {
   "cell_type": "markdown",
   "metadata": {},
   "source": [
    "#### hints!\n",
    "- check for correlations: features with the label. And features with one another\n",
    "- use graphs to illustrate similarities and differences as you deem neccessary\n",
    "- NOTE: Features with non-linear relationships will have little or no correlation but may still be very instrumental in your predictions\n",
    "- Test combinations of features (for example, new feature = old_feature1/old_feature2 )"
   ]
  },
  {
   "cell_type": "code",
   "execution_count": 4,
   "metadata": {},
   "outputs": [],
   "source": [
    "# _your code here_"
   ]
  },
  {
   "cell_type": "markdown",
   "metadata": {},
   "source": [
    "## Prepare the data to better expose the underlying data patterns to Machine Learning algorithms [20]"
   ]
  },
  {
   "cell_type": "markdown",
   "metadata": {},
   "source": [
    "#### hint!\n",
    "- remove the corresponding districts.\n",
    "- remember to deal with th NA's (you can as well do this before now)\n",
    "- Scale, Normalize, transform some features (e.g., median income can be put into categroies).\n",
    "- Set the values to some value (zero, the mean, the median, etc.).\n"
   ]
  },
  {
   "cell_type": "code",
   "execution_count": 5,
   "metadata": {},
   "outputs": [],
   "source": [
    "# _your code here_"
   ]
  },
  {
   "cell_type": "markdown",
   "metadata": {},
   "source": [
    " ## Explore many different models (at least 3) and shortlist the best ones [20] Bonus [5]"
   ]
  },
  {
   "cell_type": "markdown",
   "metadata": {},
   "source": [
    "#### hint!\n",
    "- Some with cross_validation\n",
    "- Tree based models\n",
    "- Non- Tree based Models\n",
    "- (don't worry too much about tuning here)"
   ]
  },
  {
   "cell_type": "code",
   "execution_count": 6,
   "metadata": {},
   "outputs": [],
   "source": [
    "# _your code here_"
   ]
  },
  {
   "cell_type": "markdown",
   "metadata": {},
   "source": [
    " ## Fine-tune your models [10] BONUS [10]"
   ]
  },
  {
   "cell_type": "markdown",
   "metadata": {},
   "source": [
    "#### hint!\n",
    "- We manually tuned our model in the class (this is not efficient)\n",
    "\n",
    "try:\n",
    "- GridSearchCV from sklearn (self-improvement)\n",
    "- esemble methods\n",
    "- evaluate your models on the test set"
   ]
  },
  {
   "cell_type": "code",
   "execution_count": 7,
   "metadata": {},
   "outputs": [],
   "source": [
    "# _your code here_"
   ]
  },
  {
   "cell_type": "markdown",
   "metadata": {},
   "source": [
    "## Present your solution [20]."
   ]
  },
  {
   "cell_type": "markdown",
   "metadata": {},
   "source": [
    "#### hint!\n",
    "- you do not need machine learning knowledge to write a report\n",
    "- Report your choosen solution and justify it"
   ]
  },
  {
   "cell_type": "code",
   "execution_count": 8,
   "metadata": {},
   "outputs": [],
   "source": [
    "# _your Report here_"
   ]
  },
  {
   "cell_type": "markdown",
   "metadata": {},
   "source": [
    "### ADVISE: Let your objective not be to obtain marks but to understand, experiment and experience! "
   ]
  },
  {
   "cell_type": "markdown",
   "metadata": {},
   "source": [
    "### Congratulations! You have achieved a lot if you have completed this project deligently"
   ]
  }
 ],
 "metadata": {
  "kernelspec": {
   "display_name": "Python 3",
   "language": "python",
   "name": "python3"
  },
  "language_info": {
   "codemirror_mode": {
    "name": "ipython",
    "version": 3
   },
   "file_extension": ".py",
   "mimetype": "text/x-python",
   "name": "python",
   "nbconvert_exporter": "python",
   "pygments_lexer": "ipython3",
   "version": "3.8.8"
  },
  "nav_menu": {
   "height": "279px",
   "width": "309px"
  },
  "toc": {
   "nav_menu": {},
   "number_sections": true,
   "sideBar": true,
   "skip_h1_title": false,
   "toc_cell": false,
   "toc_position": {},
   "toc_section_display": "block",
   "toc_window_display": false
  }
 },
 "nbformat": 4,
 "nbformat_minor": 4
}
